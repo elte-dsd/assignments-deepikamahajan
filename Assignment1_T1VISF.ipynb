{
  "nbformat": 4,
  "nbformat_minor": 0,
  "metadata": {
    "colab": {
      "name": "Assignment1_T1VISF.ipynb",
      "provenance": [],
      "collapsed_sections": []
    },
    "kernelspec": {
      "name": "python3",
      "display_name": "Python 3"
    }
  },
  "cells": [
    {
      "cell_type": "code",
      "metadata": {
        "id": "fVzqYPub8YzX",
        "colab_type": "code",
        "colab": {}
      },
      "source": [
        "#Name: Deepika Mahajan\n",
        "#Neptun Code: T1VISF\n",
        "#Assignment 1 : Count-Min Sketch Implimentation"
      ],
      "execution_count": 0,
      "outputs": []
    },
    {
      "cell_type": "code",
      "metadata": {
        "id": "-WUbxKY5AD6Y",
        "colab_type": "code",
        "colab": {
          "base_uri": "https://localhost:8080/",
          "height": 34
        },
        "outputId": "28359656-e455-4377-c5dd-eef4e1d26efd"
      },
      "source": [
        "!pip install mmh3\n",
        "import numpy as np\n",
        "import pandas as pd \n",
        "import random\n",
        "import mmh3"
      ],
      "execution_count": 65,
      "outputs": [
        {
          "output_type": "stream",
          "text": [
            "Requirement already satisfied: mmh3 in /usr/local/lib/python3.6/dist-packages (2.5.1)\n"
          ],
          "name": "stdout"
        }
      ]
    },
    {
      "cell_type": "code",
      "metadata": {
        "id": "9UlAC944fQwE",
        "colab_type": "code",
        "colab": {
          "base_uri": "https://localhost:8080/",
          "height": 68
        },
        "outputId": "b5e73d43-e3fb-46b7-85ec-c03dc8049e67"
      },
      "source": [
        "#To enter number of Hash Fuctions\n",
        "num_hashFunc = int (input(\"Enter: Number of Hash Function:\" ))\n",
        "\n",
        "#To enter Hash Range\n",
        "num_hashRange = int (input(\"Enter: Number of Hash Range:\" ))\n",
        "\n",
        "#To enter Stream Size\n",
        "StreamSize = int(input(\"Enter: Number of Stream Size (Sample):\" ))"
      ],
      "execution_count": 67,
      "outputs": [
        {
          "output_type": "stream",
          "text": [
            "Enter: Number of Hash Function:10\n",
            "Enter: Number of Hash Range:9\n",
            "Enter: Number of Stream Size (Sample):1000\n"
          ],
          "name": "stdout"
        }
      ]
    },
    {
      "cell_type": "code",
      "metadata": {
        "id": "gg_W4YGSiq7G",
        "colab_type": "code",
        "colab": {
          "base_uri": "https://localhost:8080/",
          "height": 34
        },
        "outputId": "c8ed3349-8d5d-4960-f866-bcdf90bf536f"
      },
      "source": [
        "#Problem: Stream Data Frequency \n",
        "Inputletter = ['A', 'B', 'C', 'D', 'E']\n",
        "print(Inputletter)"
      ],
      "execution_count": 68,
      "outputs": [
        {
          "output_type": "stream",
          "text": [
            "['A', 'B', 'C', 'D', 'E']\n"
          ],
          "name": "stdout"
        }
      ]
    },
    {
      "cell_type": "code",
      "metadata": {
        "id": "sFJp9FXXlY_T",
        "colab_type": "code",
        "colab": {
          "base_uri": "https://localhost:8080/",
          "height": 969
        },
        "outputId": "5928b98d-5cda-4d61-f16e-cc3e7b8ec101"
      },
      "source": [
        "#RandomFunction: For Generating Random Numbers\n",
        "Streamdata = np.random.choice(Inputletter, StreamSize)\n",
        "print(Streamdata)"
      ],
      "execution_count": 69,
      "outputs": [
        {
          "output_type": "stream",
          "text": [
            "['B' 'D' 'B' 'C' 'A' 'E' 'C' 'B' 'C' 'D' 'B' 'D' 'D' 'D' 'B' 'B' 'D' 'A'\n",
            " 'A' 'C' 'D' 'D' 'B' 'D' 'A' 'C' 'E' 'C' 'C' 'B' 'C' 'C' 'A' 'A' 'D' 'C'\n",
            " 'A' 'A' 'E' 'C' 'D' 'E' 'C' 'B' 'C' 'D' 'B' 'B' 'A' 'B' 'D' 'B' 'A' 'A'\n",
            " 'D' 'C' 'E' 'D' 'D' 'A' 'C' 'E' 'D' 'D' 'E' 'B' 'B' 'E' 'A' 'A' 'D' 'D'\n",
            " 'D' 'B' 'C' 'E' 'B' 'C' 'C' 'A' 'D' 'D' 'A' 'E' 'E' 'C' 'D' 'C' 'E' 'C'\n",
            " 'E' 'B' 'E' 'E' 'C' 'B' 'E' 'D' 'D' 'C' 'A' 'C' 'B' 'D' 'D' 'D' 'D' 'A'\n",
            " 'A' 'E' 'A' 'D' 'A' 'D' 'D' 'D' 'D' 'D' 'B' 'A' 'A' 'A' 'C' 'A' 'A' 'B'\n",
            " 'A' 'A' 'E' 'E' 'A' 'B' 'C' 'B' 'B' 'B' 'C' 'E' 'D' 'C' 'C' 'E' 'B' 'B'\n",
            " 'C' 'B' 'A' 'A' 'A' 'E' 'A' 'E' 'A' 'B' 'A' 'B' 'C' 'A' 'A' 'D' 'A' 'B'\n",
            " 'C' 'E' 'A' 'D' 'A' 'E' 'A' 'D' 'C' 'B' 'C' 'E' 'E' 'B' 'E' 'C' 'A' 'C'\n",
            " 'E' 'C' 'E' 'C' 'C' 'C' 'E' 'C' 'C' 'E' 'A' 'C' 'E' 'E' 'A' 'E' 'A' 'E'\n",
            " 'B' 'E' 'D' 'E' 'E' 'E' 'D' 'B' 'A' 'B' 'D' 'C' 'D' 'D' 'D' 'D' 'C' 'C'\n",
            " 'D' 'C' 'E' 'B' 'A' 'A' 'A' 'A' 'B' 'C' 'C' 'B' 'C' 'D' 'E' 'B' 'B' 'D'\n",
            " 'E' 'D' 'D' 'D' 'A' 'B' 'B' 'A' 'E' 'D' 'B' 'E' 'C' 'E' 'B' 'C' 'A' 'A'\n",
            " 'A' 'B' 'A' 'A' 'A' 'A' 'D' 'A' 'D' 'A' 'D' 'C' 'A' 'D' 'D' 'B' 'A' 'A'\n",
            " 'C' 'A' 'B' 'C' 'E' 'B' 'D' 'C' 'A' 'A' 'A' 'D' 'D' 'C' 'A' 'A' 'A' 'A'\n",
            " 'A' 'A' 'E' 'C' 'E' 'C' 'B' 'E' 'C' 'E' 'D' 'B' 'B' 'A' 'E' 'C' 'E' 'C'\n",
            " 'D' 'A' 'C' 'A' 'C' 'B' 'C' 'D' 'C' 'E' 'C' 'C' 'B' 'E' 'B' 'D' 'A' 'D'\n",
            " 'A' 'C' 'D' 'E' 'D' 'B' 'A' 'C' 'A' 'E' 'B' 'C' 'D' 'C' 'D' 'A' 'E' 'A'\n",
            " 'B' 'B' 'B' 'B' 'D' 'A' 'C' 'A' 'D' 'B' 'D' 'B' 'B' 'B' 'D' 'B' 'A' 'D'\n",
            " 'A' 'B' 'E' 'E' 'A' 'D' 'B' 'E' 'C' 'C' 'D' 'C' 'D' 'A' 'B' 'D' 'E' 'D'\n",
            " 'D' 'A' 'C' 'E' 'E' 'D' 'D' 'C' 'B' 'E' 'C' 'B' 'C' 'E' 'B' 'B' 'B' 'A'\n",
            " 'D' 'C' 'C' 'E' 'C' 'D' 'E' 'A' 'B' 'E' 'B' 'C' 'C' 'C' 'D' 'E' 'A' 'C'\n",
            " 'B' 'D' 'B' 'E' 'A' 'D' 'E' 'D' 'D' 'E' 'A' 'A' 'B' 'D' 'E' 'A' 'A' 'C'\n",
            " 'D' 'A' 'B' 'A' 'C' 'D' 'B' 'E' 'B' 'C' 'C' 'D' 'C' 'A' 'E' 'A' 'B' 'C'\n",
            " 'B' 'E' 'A' 'A' 'D' 'B' 'B' 'C' 'E' 'A' 'A' 'D' 'E' 'A' 'C' 'E' 'C' 'D'\n",
            " 'B' 'E' 'B' 'A' 'A' 'D' 'A' 'D' 'E' 'E' 'C' 'D' 'A' 'B' 'C' 'E' 'E' 'D'\n",
            " 'B' 'D' 'A' 'E' 'B' 'B' 'B' 'E' 'E' 'E' 'D' 'E' 'C' 'B' 'D' 'A' 'B' 'B'\n",
            " 'A' 'C' 'C' 'E' 'D' 'D' 'D' 'A' 'E' 'B' 'C' 'B' 'D' 'A' 'B' 'A' 'B' 'C'\n",
            " 'A' 'A' 'C' 'A' 'B' 'D' 'B' 'B' 'D' 'A' 'D' 'A' 'A' 'E' 'A' 'D' 'B' 'B'\n",
            " 'D' 'A' 'D' 'E' 'A' 'E' 'E' 'C' 'E' 'A' 'A' 'E' 'E' 'D' 'C' 'A' 'B' 'D'\n",
            " 'B' 'B' 'B' 'D' 'E' 'A' 'C' 'D' 'E' 'D' 'D' 'A' 'D' 'A' 'D' 'D' 'E' 'B'\n",
            " 'B' 'A' 'A' 'C' 'E' 'A' 'D' 'E' 'B' 'E' 'B' 'C' 'A' 'B' 'C' 'D' 'D' 'E'\n",
            " 'E' 'C' 'A' 'E' 'E' 'B' 'B' 'D' 'B' 'C' 'A' 'D' 'D' 'A' 'D' 'E' 'A' 'D'\n",
            " 'D' 'D' 'A' 'B' 'A' 'A' 'A' 'C' 'D' 'C' 'B' 'B' 'B' 'A' 'D' 'E' 'A' 'A'\n",
            " 'B' 'A' 'A' 'D' 'D' 'B' 'D' 'E' 'A' 'E' 'D' 'B' 'C' 'B' 'E' 'E' 'A' 'E'\n",
            " 'D' 'D' 'B' 'A' 'B' 'B' 'C' 'E' 'D' 'E' 'A' 'A' 'B' 'D' 'B' 'E' 'D' 'A'\n",
            " 'E' 'A' 'B' 'C' 'D' 'A' 'C' 'B' 'C' 'C' 'E' 'B' 'D' 'B' 'B' 'C' 'C' 'E'\n",
            " 'E' 'D' 'B' 'D' 'E' 'B' 'A' 'C' 'D' 'B' 'D' 'B' 'D' 'D' 'E' 'C' 'C' 'C'\n",
            " 'A' 'D' 'E' 'A' 'A' 'A' 'A' 'A' 'D' 'B' 'E' 'C' 'B' 'C' 'B' 'E' 'E' 'A'\n",
            " 'E' 'B' 'D' 'C' 'C' 'D' 'C' 'E' 'A' 'A' 'B' 'C' 'E' 'A' 'A' 'A' 'C' 'A'\n",
            " 'B' 'D' 'C' 'A' 'A' 'C' 'E' 'A' 'A' 'E' 'C' 'B' 'B' 'A' 'E' 'D' 'D' 'E'\n",
            " 'A' 'E' 'E' 'E' 'A' 'D' 'B' 'A' 'E' 'E' 'A' 'B' 'A' 'D' 'B' 'E' 'B' 'C'\n",
            " 'A' 'A' 'E' 'C' 'A' 'E' 'B' 'D' 'A' 'E' 'B' 'D' 'C' 'E' 'E' 'B' 'C' 'C'\n",
            " 'E' 'A' 'C' 'D' 'B' 'C' 'E' 'C' 'C' 'A' 'E' 'B' 'B' 'D' 'B' 'E' 'A' 'D'\n",
            " 'D' 'A' 'C' 'A' 'B' 'E' 'C' 'A' 'E' 'C' 'C' 'B' 'A' 'E' 'A' 'A' 'B' 'C'\n",
            " 'C' 'A' 'E' 'A' 'D' 'C' 'C' 'A' 'A' 'A' 'E' 'A' 'A' 'B' 'A' 'D' 'A' 'D'\n",
            " 'D' 'D' 'B' 'D' 'A' 'D' 'C' 'E' 'A' 'C' 'C' 'D' 'A' 'C' 'D' 'B' 'E' 'E'\n",
            " 'A' 'D' 'B' 'C' 'B' 'E' 'A' 'A' 'E' 'D' 'B' 'B' 'A' 'B' 'D' 'E' 'A' 'C'\n",
            " 'E' 'C' 'E' 'E' 'A' 'C' 'B' 'E' 'B' 'B' 'A' 'B' 'D' 'D' 'A' 'E' 'E' 'E'\n",
            " 'D' 'C' 'A' 'B' 'B' 'B' 'E' 'A' 'C' 'C' 'C' 'B' 'B' 'A' 'E' 'D' 'D' 'E'\n",
            " 'C' 'E' 'C' 'A' 'C' 'A' 'B' 'A' 'E' 'B' 'B' 'B' 'E' 'D' 'D' 'A' 'A' 'B'\n",
            " 'A' 'A' 'D' 'A' 'A' 'E' 'C' 'B' 'A' 'D' 'A' 'A' 'D' 'B' 'C' 'C' 'A' 'C'\n",
            " 'A' 'B' 'B' 'E' 'D' 'A' 'B' 'E' 'D' 'D' 'D' 'D' 'A' 'E' 'E' 'B' 'D' 'B'\n",
            " 'C' 'C' 'E' 'B' 'B' 'C' 'A' 'C' 'A' 'B' 'A' 'C' 'C' 'A' 'C' 'A' 'C' 'D'\n",
            " 'E' 'C' 'A' 'D' 'B' 'C' 'B' 'C' 'B' 'D']\n"
          ],
          "name": "stdout"
        }
      ]
    },
    {
      "cell_type": "code",
      "metadata": {
        "id": "KUq9x4yWjA4L",
        "colab_type": "code",
        "colab": {
          "base_uri": "https://localhost:8080/",
          "height": 187
        },
        "outputId": "86ea2a42-8a2e-41ac-9403-4de481eae5f1"
      },
      "source": [
        "#CountMinSketch\n",
        "countMinSketch = np.zeros((num_hashFunc,num_hashRange))\n",
        "print(countMinSketch)\n"
      ],
      "execution_count": 70,
      "outputs": [
        {
          "output_type": "stream",
          "text": [
            "[[0. 0. 0. 0. 0. 0. 0. 0. 0.]\n",
            " [0. 0. 0. 0. 0. 0. 0. 0. 0.]\n",
            " [0. 0. 0. 0. 0. 0. 0. 0. 0.]\n",
            " [0. 0. 0. 0. 0. 0. 0. 0. 0.]\n",
            " [0. 0. 0. 0. 0. 0. 0. 0. 0.]\n",
            " [0. 0. 0. 0. 0. 0. 0. 0. 0.]\n",
            " [0. 0. 0. 0. 0. 0. 0. 0. 0.]\n",
            " [0. 0. 0. 0. 0. 0. 0. 0. 0.]\n",
            " [0. 0. 0. 0. 0. 0. 0. 0. 0.]\n",
            " [0. 0. 0. 0. 0. 0. 0. 0. 0.]]\n"
          ],
          "name": "stdout"
        }
      ]
    },
    {
      "cell_type": "code",
      "metadata": {
        "id": "8crhb58mrUFW",
        "colab_type": "code",
        "colab": {
          "base_uri": "https://localhost:8080/",
          "height": 187
        },
        "outputId": "011d332a-23e0-4919-fdc0-f42d1a927c2d"
      },
      "source": [
        "for i in Streamdata:\n",
        "  for j in range(num_hashFunc):\n",
        "    X = mmh3.hash(i, j) % num_hashRange\n",
        "    countMinSketch[j,X] += 1\n",
        "print(countMinSketch)"
      ],
      "execution_count": 71,
      "outputs": [
        {
          "output_type": "stream",
          "text": [
            "[[182. 239.   0.   0.   0. 199. 183. 197.   0.]\n",
            " [  0. 197. 182.   0.   0. 438.   0. 183.   0.]\n",
            " [  0. 562. 239.   0.   0. 199.   0.   0.   0.]\n",
            " [  0. 199.   0.   0.   0. 239. 182. 380.   0.]\n",
            " [  0. 199.   0.   0. 239.   0. 182.   0. 380.]\n",
            " [197.   0. 199. 182.   0. 183. 239.   0.   0.]\n",
            " [  0.   0. 197. 199.   0. 239. 183.   0. 182.]\n",
            " [  0. 182.   0. 199. 197.   0. 239.   0. 183.]\n",
            " [436.   0.   0. 182.   0.   0.   0. 199. 183.]\n",
            " [  0.   0.   0. 199.   0. 239.   0. 379. 183.]]\n"
          ],
          "name": "stdout"
        }
      ]
    },
    {
      "cell_type": "code",
      "metadata": {
        "id": "hEzKtjxQ1Vk8",
        "colab_type": "code",
        "colab": {
          "base_uri": "https://localhost:8080/",
          "height": 34
        },
        "outputId": "9672cff0-7941-4799-9558-8fa94af9cf4c"
      },
      "source": [
        "#Count of Letter Frequency\n",
        "Freq_counts = dict()\n",
        "loc = np.zeros((len(Inputletter), num_hashFunc))\n",
        "for i in Inputletter:\n",
        "  for j in range(num_hashFunc):\n",
        "    X = mmh3.hash(i,j) % num_hashRange\n",
        "    loc[Inputletter.index(i),j] = countMinSketch[j, X]\n",
        "  Freq_counts[i] = np.amin(loc[Inputletter.index(i)])\n",
        "print(Freq_counts)"
      ],
      "execution_count": 75,
      "outputs": [
        {
          "output_type": "stream",
          "text": [
            "{'A': 239.0, 'B': 197.0, 'C': 183.0, 'D': 199.0, 'E': 182.0}\n"
          ],
          "name": "stdout"
        }
      ]
    }
  ]
}