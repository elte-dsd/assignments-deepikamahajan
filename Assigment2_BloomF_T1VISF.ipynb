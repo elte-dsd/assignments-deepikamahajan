{
  "nbformat": 4,
  "nbformat_minor": 0,
  "metadata": {
    "colab": {
      "name": "Assigment2_BloomF_T1VISF.ipynb",
      "provenance": [],
      "collapsed_sections": []
    },
    "kernelspec": {
      "name": "python3",
      "display_name": "Python 3"
    }
  },
  "cells": [
    {
      "cell_type": "code",
      "metadata": {
        "id": "IbiXb4DukdHd",
        "colab_type": "code",
        "outputId": "0924b365-63f8-46f9-dcad-224a1f45b598",
        "colab": {
          "base_uri": "https://localhost:8080/",
          "height": 52
        }
      },
      "source": [
        "#Deepika Mahajan\n",
        "#Neptun Code: T1VISF\n",
        "#Assignment 2 : Bloom Filter Implementation\n",
        "\n",
        "#BloomFilter \n",
        "\n",
        "!pip install mmh3 \n",
        "!pip install bitarray \n",
        "\n",
        "import math \n",
        "import mmh3 \n",
        "from bitarray import bitarray"
      ],
      "execution_count": 0,
      "outputs": [
        {
          "output_type": "stream",
          "text": [
            "Requirement already satisfied: mmh3 in /usr/local/lib/python3.6/dist-packages (2.5.1)\n",
            "Requirement already satisfied: bitarray in /usr/local/lib/python3.6/dist-packages (1.0.1)\n"
          ],
          "name": "stdout"
        }
      ]
    },
    {
      "cell_type": "code",
      "metadata": {
        "id": "wCAHviFU-B6t",
        "colab_type": "code",
        "outputId": "93b52d24-d436-4623-fe68-ddae964adb57",
        "colab": {
          "base_uri": "https://localhost:8080/",
          "height": 312
        }
      },
      "source": [
        "#Class for Bloom filter\n",
        "class BloomFilter():\n",
        "  def __init__(self, Item_Count,FP_prob):\n",
        "    self.FP_prob = FP_prob                                          # False posible probability\n",
        "    self.array_size = self.get_arraySize(Item_Count,FP_prob)                   # Size of bit array to use\n",
        "    self.Hash_Count = self.get_Hash_Count(self.array_size,Item_Count)     # Number of HashFunctions to use\n",
        "    self.bit_array = bitarray(self.array_size)                            # Bit array of given size\n",
        "    self.bit_array.setall(0)                                        # to initialize all bits as 0\n",
        "    \n",
        "#to add an item in the filter\n",
        "  def add_Item(self, Item):\n",
        "    ArrayIndex = []                                     \n",
        "    for i in range(self.Hash_Count):                                # i is working as a seed to Hash Function\n",
        "        ArrayIndex = mmh3.hash(Item,i) % self.array_size \n",
        "        #ArrayIndex.append(ArrayIndex) \n",
        "        self.bit_array[ArrayIndex] = True                           # set the bit True in bit_array \n",
        "\n",
        "# to check existence of an item in filter\n",
        "  def check_Item(self, Item):      \n",
        "    for i in range(self.Hash_Count): \n",
        "            ArrayIndex = mmh3.hash(item,i) % self.array_size\n",
        "            if self.bit_array[ArrayIndex] == False:                 # if any of bit is False that means its not present in the filter \n",
        "               return False                                         \n",
        "    return True\n",
        "  \n",
        "  def get_arraySize(self,Item_Count,FP_prob):                               # To return the size of bit array\n",
        "         array_size = -(Item_Count * math.log(FP_prob))/(math.log(2)**2) \n",
        "         return int(array_size) \n",
        "      \n",
        "  def get_Hash_Count(self, array_size, Item_Count):                         #array_size = Size of bit array\n",
        "        Hash_Count = (array_size/Item_Count) * math.log(2)                  # Item_Count = number of items expected to be stored in filter\n",
        "        return int(Hash_Count) \n",
        "                                                                                                   \n",
        "        \n",
        "\n",
        "#Testing Bloom Filter\n",
        "from random import shuffle \n",
        "FP_prob = 0.02\n",
        "Item_Count  = 20\n",
        "\n",
        "bloomfilter = BloomFilter(Item_Count,FP_prob)  \n",
        "print(\"Size of the array: {} , and the number of hash functions: {}\".format(bloomfilter.array_size,bloomfilter.Hash_Count)) \n",
        "\n",
        "#Words to be added\n",
        "\n",
        "Randomly_Generated_words = ['pancake','letter','chivalrous','shrill','spiritual','ossified','abnormal','tour','high-pitched','resonant','edge','knife']  \n",
        "Some_more_words = ['dreary','double','second-hand','probable','tongue','dress']\n",
        "\n",
        "\n",
        "for Item in Randomly_Generated_words: \n",
        "    bloomfilter.add_Item(Item) #add the items\n",
        "shuffle(Some_more_words)   \n",
        "shuffle(Randomly_Generated_words) \n",
        "  \n",
        "test_words = Randomly_Generated_words[:10] + Some_more_words \n",
        "shuffle(test_words) #shuffle the test list\n",
        "for word in test_words: \n",
        "    if not bloomfilter.check_Item(word): #check the items\n",
        "      print(\" '{}'  it's not present!\".format(word))\n",
        "      \n",
        "    else:\n",
        "      if word in Some_more_words: \n",
        "            print(\"'{}' its a false positive \".format(word)) \n",
        "      else: \n",
        "            print(\"'{}' it's probably present!\".format(word))"
      ],
      "execution_count": 0,
      "outputs": [
        {
          "output_type": "stream",
          "text": [
            "Size of the array: 162 , and the number of hash functions: 5\n",
            "'pancake' it's probably present!\n",
            "'second-hand' its a false positive \n",
            "'shrill' it's probably present!\n",
            "'edge' it's probably present!\n",
            "'dress' its a false positive \n",
            "'probable' its a false positive \n",
            "'tour' it's probably present!\n",
            "'letter' it's probably present!\n",
            "'resonant' it's probably present!\n",
            "'dreary' its a false positive \n",
            "'abnormal' it's probably present!\n",
            "'high-pitched' it's probably present!\n",
            "'chivalrous' it's probably present!\n",
            "'ossified' it's probably present!\n",
            "'double' its a false positive \n",
            "'tongue' its a false positive \n"
          ],
          "name": "stdout"
        }
      ]
    },
    {
      "cell_type": "code",
      "metadata": {
        "id": "Tbe6sIBgCpc5",
        "colab_type": "code",
        "colab": {}
      },
      "source": [
        "Sources: Wikipedia, geeksforgeeks and medium "
      ],
      "execution_count": 0,
      "outputs": []
    }
  ]
}